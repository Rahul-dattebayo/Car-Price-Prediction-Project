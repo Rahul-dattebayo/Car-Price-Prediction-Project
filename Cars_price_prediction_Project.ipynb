{
 "cells": [
  {
   "cell_type": "code",
   "execution_count": 1,
   "metadata": {
    "id": "5B5toS59f4LO"
   },
   "outputs": [],
   "source": [
    "import pandas as pd\n",
    "import numpy as np"
   ]
  },
  {
   "cell_type": "code",
   "execution_count": 33,
   "metadata": {
    "colab": {
     "base_uri": "https://localhost:8080/",
     "height": 73,
     "resources": {
      "http://localhost:8080/nbextensions/google.colab/files.js": {
       "data": "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",
       "headers": [
        [
         "content-type",
         "application/javascript"
        ]
       ],
       "ok": true,
       "status": 200,
       "status_text": ""
      }
     }
    },
    "id": "gbg56RREjeT6",
    "outputId": "89ad3fa6-9579-4579-f429-ca0b14129a09"
   },
   "outputs": [
    {
     "data": {
      "text/html": [
       "\n",
       "     <input type=\"file\" id=\"files-697cc4d9-728a-4d8a-ae66-aedd3c2d3c7d\" name=\"files[]\" multiple disabled\n",
       "        style=\"border:none\" />\n",
       "     <output id=\"result-697cc4d9-728a-4d8a-ae66-aedd3c2d3c7d\">\n",
       "      Upload widget is only available when the cell has been executed in the\n",
       "      current browser session. Please rerun this cell to enable.\n",
       "      </output>\n",
       "      <script src=\"/nbextensions/google.colab/files.js\"></script> "
      ],
      "text/plain": [
       "<IPython.core.display.HTML object>"
      ]
     },
     "metadata": {},
     "output_type": "display_data"
    },
    {
     "name": "stdout",
     "output_type": "stream",
     "text": [
      "Saving Cars_Mumbai.csv to Cars_Mumbai (1).csv\n"
     ]
    }
   ],
   "source": [
    "from google.colab import files\n",
    "  \n",
    "  \n",
    "uploaded = files.upload()"
   ]
  },
  {
   "cell_type": "code",
   "execution_count": 2,
   "metadata": {
    "colab": {
     "base_uri": "https://localhost:8080/",
     "height": 414
    },
    "id": "L2L2FRgJjhJ4",
    "outputId": "1de31a40-c5f2-47ef-d821-4ee1901c9021"
   },
   "outputs": [
    {
     "data": {
      "text/html": [
       "<div>\n",
       "<style scoped>\n",
       "    .dataframe tbody tr th:only-of-type {\n",
       "        vertical-align: middle;\n",
       "    }\n",
       "\n",
       "    .dataframe tbody tr th {\n",
       "        vertical-align: top;\n",
       "    }\n",
       "\n",
       "    .dataframe thead th {\n",
       "        text-align: right;\n",
       "    }\n",
       "</style>\n",
       "<table border=\"1\" class=\"dataframe\">\n",
       "  <thead>\n",
       "    <tr style=\"text-align: right;\">\n",
       "      <th></th>\n",
       "      <th>name</th>\n",
       "      <th>year</th>\n",
       "      <th>selling_price</th>\n",
       "      <th>km_driven</th>\n",
       "      <th>fuel</th>\n",
       "      <th>transmission</th>\n",
       "      <th>owner</th>\n",
       "    </tr>\n",
       "  </thead>\n",
       "  <tbody>\n",
       "    <tr>\n",
       "      <th>0</th>\n",
       "      <td>Maruti Swift Dzire VDI</td>\n",
       "      <td>2014</td>\n",
       "      <td>450000</td>\n",
       "      <td>145500</td>\n",
       "      <td>Diesel</td>\n",
       "      <td>Manual</td>\n",
       "      <td>1st</td>\n",
       "    </tr>\n",
       "    <tr>\n",
       "      <th>1</th>\n",
       "      <td>Skoda Rapid 1.5 TDI Ambition</td>\n",
       "      <td>2014</td>\n",
       "      <td>370000</td>\n",
       "      <td>120000</td>\n",
       "      <td>Diesel</td>\n",
       "      <td>Manual</td>\n",
       "      <td>2nd</td>\n",
       "    </tr>\n",
       "    <tr>\n",
       "      <th>2</th>\n",
       "      <td>Honda City 2017-2020 EXi</td>\n",
       "      <td>2006</td>\n",
       "      <td>158000</td>\n",
       "      <td>140000</td>\n",
       "      <td>Petrol</td>\n",
       "      <td>Manual</td>\n",
       "      <td>3rd</td>\n",
       "    </tr>\n",
       "    <tr>\n",
       "      <th>3</th>\n",
       "      <td>Hyundai i20 Sportz Diesel</td>\n",
       "      <td>2010</td>\n",
       "      <td>225000</td>\n",
       "      <td>127000</td>\n",
       "      <td>Diesel</td>\n",
       "      <td>Manual</td>\n",
       "      <td>1st</td>\n",
       "    </tr>\n",
       "    <tr>\n",
       "      <th>4</th>\n",
       "      <td>Maruti Swift VXI BSIII</td>\n",
       "      <td>2007</td>\n",
       "      <td>130000</td>\n",
       "      <td>120000</td>\n",
       "      <td>Petrol</td>\n",
       "      <td>Manual</td>\n",
       "      <td>1st</td>\n",
       "    </tr>\n",
       "    <tr>\n",
       "      <th>...</th>\n",
       "      <td>...</td>\n",
       "      <td>...</td>\n",
       "      <td>...</td>\n",
       "      <td>...</td>\n",
       "      <td>...</td>\n",
       "      <td>...</td>\n",
       "      <td>...</td>\n",
       "    </tr>\n",
       "    <tr>\n",
       "      <th>8123</th>\n",
       "      <td>Hyundai i20 Magna</td>\n",
       "      <td>2013</td>\n",
       "      <td>320000</td>\n",
       "      <td>110000</td>\n",
       "      <td>Petrol</td>\n",
       "      <td>Manual</td>\n",
       "      <td>1st</td>\n",
       "    </tr>\n",
       "    <tr>\n",
       "      <th>8124</th>\n",
       "      <td>Hyundai Verna CRDi SX</td>\n",
       "      <td>2007</td>\n",
       "      <td>135000</td>\n",
       "      <td>119000</td>\n",
       "      <td>Diesel</td>\n",
       "      <td>Manual</td>\n",
       "      <td>4th</td>\n",
       "    </tr>\n",
       "    <tr>\n",
       "      <th>8125</th>\n",
       "      <td>Maruti Swift Dzire ZDi</td>\n",
       "      <td>2009</td>\n",
       "      <td>382000</td>\n",
       "      <td>120000</td>\n",
       "      <td>Diesel</td>\n",
       "      <td>Manual</td>\n",
       "      <td>1st</td>\n",
       "    </tr>\n",
       "    <tr>\n",
       "      <th>8126</th>\n",
       "      <td>Tata Indigo CR4</td>\n",
       "      <td>2013</td>\n",
       "      <td>290000</td>\n",
       "      <td>25000</td>\n",
       "      <td>Diesel</td>\n",
       "      <td>Manual</td>\n",
       "      <td>1st</td>\n",
       "    </tr>\n",
       "    <tr>\n",
       "      <th>8127</th>\n",
       "      <td>Tata Indigo CR4</td>\n",
       "      <td>2013</td>\n",
       "      <td>290000</td>\n",
       "      <td>25000</td>\n",
       "      <td>Diesel</td>\n",
       "      <td>Manual</td>\n",
       "      <td>1st</td>\n",
       "    </tr>\n",
       "  </tbody>\n",
       "</table>\n",
       "<p>8128 rows × 7 columns</p>\n",
       "</div>"
      ],
      "text/plain": [
       "                              name  year  selling_price  km_driven    fuel  \\\n",
       "0           Maruti Swift Dzire VDI  2014         450000     145500  Diesel   \n",
       "1     Skoda Rapid 1.5 TDI Ambition  2014         370000     120000  Diesel   \n",
       "2         Honda City 2017-2020 EXi  2006         158000     140000  Petrol   \n",
       "3        Hyundai i20 Sportz Diesel  2010         225000     127000  Diesel   \n",
       "4           Maruti Swift VXI BSIII  2007         130000     120000  Petrol   \n",
       "...                            ...   ...            ...        ...     ...   \n",
       "8123             Hyundai i20 Magna  2013         320000     110000  Petrol   \n",
       "8124         Hyundai Verna CRDi SX  2007         135000     119000  Diesel   \n",
       "8125        Maruti Swift Dzire ZDi  2009         382000     120000  Diesel   \n",
       "8126               Tata Indigo CR4  2013         290000      25000  Diesel   \n",
       "8127               Tata Indigo CR4  2013         290000      25000  Diesel   \n",
       "\n",
       "     transmission owner  \n",
       "0          Manual   1st  \n",
       "1          Manual   2nd  \n",
       "2          Manual   3rd  \n",
       "3          Manual   1st  \n",
       "4          Manual   1st  \n",
       "...           ...   ...  \n",
       "8123       Manual   1st  \n",
       "8124       Manual   4th  \n",
       "8125       Manual   1st  \n",
       "8126       Manual   1st  \n",
       "8127       Manual   1st  \n",
       "\n",
       "[8128 rows x 7 columns]"
      ]
     },
     "execution_count": 2,
     "metadata": {},
     "output_type": "execute_result"
    }
   ],
   "source": [
    "cars = pd.read_csv('Cars_Mumbai.csv')\n",
    "\n",
    "cars"
   ]
  },
  {
   "cell_type": "markdown",
   "metadata": {
    "id": "NxehEk6TTqX0"
   },
   "source": [
    "The length of data seems a bit more, we shall cut short it to the required lenght."
   ]
  },
  {
   "cell_type": "code",
   "execution_count": 4,
   "metadata": {
    "colab": {
     "base_uri": "https://localhost:8080/"
    },
    "id": "L-n1VxVhVFsI",
    "outputId": "054d98ac-facf-4564-e420-6f8b1cdd6cc1"
   },
   "outputs": [
    {
     "name": "stdout",
     "output_type": "stream",
     "text": [
      "<class 'pandas.core.frame.DataFrame'>\n",
      "RangeIndex: 8128 entries, 0 to 8127\n",
      "Data columns (total 7 columns):\n",
      " #   Column         Non-Null Count  Dtype \n",
      "---  ------         --------------  ----- \n",
      " 0   name           8128 non-null   object\n",
      " 1   year           8128 non-null   int64 \n",
      " 2   selling_price  8128 non-null   int64 \n",
      " 3   km_driven      8128 non-null   int64 \n",
      " 4   fuel           8128 non-null   object\n",
      " 5   transmission   8128 non-null   object\n",
      " 6   owner          8128 non-null   object\n",
      "dtypes: int64(3), object(4)\n",
      "memory usage: 444.6+ KB\n"
     ]
    }
   ],
   "source": [
    "cars.info()"
   ]
  },
  {
   "cell_type": "markdown",
   "metadata": {
    "id": "Wi3SqYlWVLeH"
   },
   "source": [
    "There are no null values.\n",
    "\n",
    "There are 4 columns which are object datatype\n",
    "\n",
    "    name\n",
    "\n",
    "    fuel\n",
    "\n",
    "    transmission\n",
    "\n",
    "    owner"
   ]
  },
  {
   "cell_type": "code",
   "execution_count": 5,
   "metadata": {
    "colab": {
     "base_uri": "https://localhost:8080/",
     "height": 294
    },
    "id": "he1UmwG9Vq5T",
    "outputId": "84c8353e-8ea9-430d-ab27-ebb0f49a606b"
   },
   "outputs": [
    {
     "data": {
      "text/html": [
       "<div>\n",
       "<style scoped>\n",
       "    .dataframe tbody tr th:only-of-type {\n",
       "        vertical-align: middle;\n",
       "    }\n",
       "\n",
       "    .dataframe tbody tr th {\n",
       "        vertical-align: top;\n",
       "    }\n",
       "\n",
       "    .dataframe thead th {\n",
       "        text-align: right;\n",
       "    }\n",
       "</style>\n",
       "<table border=\"1\" class=\"dataframe\">\n",
       "  <thead>\n",
       "    <tr style=\"text-align: right;\">\n",
       "      <th></th>\n",
       "      <th>year</th>\n",
       "      <th>selling_price</th>\n",
       "      <th>km_driven</th>\n",
       "    </tr>\n",
       "  </thead>\n",
       "  <tbody>\n",
       "    <tr>\n",
       "      <th>count</th>\n",
       "      <td>8128.000000</td>\n",
       "      <td>8.128000e+03</td>\n",
       "      <td>8.128000e+03</td>\n",
       "    </tr>\n",
       "    <tr>\n",
       "      <th>mean</th>\n",
       "      <td>2013.804011</td>\n",
       "      <td>6.382718e+05</td>\n",
       "      <td>6.981951e+04</td>\n",
       "    </tr>\n",
       "    <tr>\n",
       "      <th>std</th>\n",
       "      <td>4.044249</td>\n",
       "      <td>8.062534e+05</td>\n",
       "      <td>5.655055e+04</td>\n",
       "    </tr>\n",
       "    <tr>\n",
       "      <th>min</th>\n",
       "      <td>1983.000000</td>\n",
       "      <td>2.999900e+04</td>\n",
       "      <td>1.000000e+00</td>\n",
       "    </tr>\n",
       "    <tr>\n",
       "      <th>25%</th>\n",
       "      <td>2011.000000</td>\n",
       "      <td>2.549990e+05</td>\n",
       "      <td>3.500000e+04</td>\n",
       "    </tr>\n",
       "    <tr>\n",
       "      <th>50%</th>\n",
       "      <td>2015.000000</td>\n",
       "      <td>4.500000e+05</td>\n",
       "      <td>6.000000e+04</td>\n",
       "    </tr>\n",
       "    <tr>\n",
       "      <th>75%</th>\n",
       "      <td>2017.000000</td>\n",
       "      <td>6.750000e+05</td>\n",
       "      <td>9.800000e+04</td>\n",
       "    </tr>\n",
       "    <tr>\n",
       "      <th>max</th>\n",
       "      <td>2020.000000</td>\n",
       "      <td>1.000000e+07</td>\n",
       "      <td>2.360457e+06</td>\n",
       "    </tr>\n",
       "  </tbody>\n",
       "</table>\n",
       "</div>"
      ],
      "text/plain": [
       "              year  selling_price     km_driven\n",
       "count  8128.000000   8.128000e+03  8.128000e+03\n",
       "mean   2013.804011   6.382718e+05  6.981951e+04\n",
       "std       4.044249   8.062534e+05  5.655055e+04\n",
       "min    1983.000000   2.999900e+04  1.000000e+00\n",
       "25%    2011.000000   2.549990e+05  3.500000e+04\n",
       "50%    2015.000000   4.500000e+05  6.000000e+04\n",
       "75%    2017.000000   6.750000e+05  9.800000e+04\n",
       "max    2020.000000   1.000000e+07  2.360457e+06"
      ]
     },
     "execution_count": 5,
     "metadata": {},
     "output_type": "execute_result"
    }
   ],
   "source": [
    "cars.describe()"
   ]
  },
  {
   "cell_type": "markdown",
   "metadata": {
    "id": "tH5ldNN1ZBMp"
   },
   "source": [
    "Price Max : 1,00,00,000\n",
    "\n",
    "Km Driven Max : 23,60,457\n",
    "\n",
    "Year Max : 2020"
   ]
  },
  {
   "cell_type": "markdown",
   "metadata": {
    "id": "d4UVdsFRaGWC"
   },
   "source": [
    "Price Min : 30000\n",
    "\n",
    "Km Driven Min : 1\n",
    "\n",
    "Year Min : 1983"
   ]
  },
  {
   "cell_type": "markdown",
   "metadata": {
    "id": "5a6N3qMbhmq-"
   },
   "source": [
    "The Maximum value for each column seems to be very high and that means, the Outliers.\n",
    "\n",
    "The outliers in the cases like these cannot be compromised as some vehicles might have covered the distance of such long, or the prices could be that high.\n",
    "\n",
    "We shall visualise the outliers later in the visualization part."
   ]
  },
  {
   "cell_type": "markdown",
   "metadata": {
    "id": "Bfy8hVdgZymK"
   },
   "source": [
    "Price Mean : 638271.8077017716\n",
    "\n",
    "Km Driven Mean : 69819.51082677166\n",
    "\n",
    "Year Mean : 2013.8040108267717"
   ]
  },
  {
   "cell_type": "code",
   "execution_count": 6,
   "metadata": {
    "colab": {
     "base_uri": "https://localhost:8080/"
    },
    "id": "zDdw2XbhblP5",
    "outputId": "e6053ed0-abbb-4101-a6c4-26dc935f941d"
   },
   "outputs": [
    {
     "name": "stdout",
     "output_type": "stream",
     "text": [
      "Fuel Data :\n",
      "Diesel    4402\n",
      "Petrol    3631\n",
      "CNG         57\n",
      "LPG         38\n",
      "Name: fuel, dtype: int64\n",
      "\n",
      "Transmission Data :\n",
      "Manual       7078\n",
      "Automatic    1050\n",
      "Name: transmission, dtype: int64\n",
      "\n",
      "Owner :\n",
      "1st               5289\n",
      "2nd               2105\n",
      "3rd                555\n",
      "4th                174\n",
      "Test Drive Car       5\n",
      "Name: owner, dtype: int64\n",
      "\n"
     ]
    }
   ],
   "source": [
    "# Looking and Checking the distribution categorical data\n",
    "\n",
    "def checkDistributionCategorical(data):\n",
    "    ch1 = data.fuel.value_counts()\n",
    "    ch2 = data.transmission.value_counts()\n",
    "    ch4 = data.owner.value_counts()\n",
    "\n",
    "    print(f'Fuel Data :\\n{ch1}\\n')\n",
    "    print(f'Transmission Data :\\n{ch2}\\n')\n",
    "    print(f'Owner :\\n{ch4}\\n')\n",
    "\n",
    "checkDistributionCategorical(cars)"
   ]
  },
  {
   "cell_type": "markdown",
   "metadata": {
    "id": "T0_-6a5We9w0"
   },
   "source": [
    "As the categorical data isn't something that the model can process. thus, we shall assign the numbers to it for the model to understand."
   ]
  },
  {
   "cell_type": "code",
   "execution_count": 7,
   "metadata": {
    "id": "6i8NwM1rcCUV"
   },
   "outputs": [],
   "source": [
    "# Encode Fuel Data\n",
    "cars.replace({'fuel':{'Diesel': 0, 'Petrol': 1, 'CNG': 2, 'LPG': 3}}, inplace=True)\n",
    "\n",
    "# Encode Transmission Data\n",
    "cars.replace({'transmission':{'Manual': 0, 'Automatic': 1}}, inplace=True)\n",
    "\n",
    "# Encode Owner Data\n",
    "cars.replace({'owner':{'1st': 0, '2nd': 1, '3rd': 2, '4th': 3, 'Test Drive Car': 4}}, inplace=True)"
   ]
  },
  {
   "cell_type": "code",
   "execution_count": 8,
   "metadata": {
    "colab": {
     "base_uri": "https://localhost:8080/",
     "height": 414
    },
    "id": "YmdZ53tsd885",
    "outputId": "70152903-0ddf-47ea-8e59-ae6df401ec46"
   },
   "outputs": [
    {
     "data": {
      "text/html": [
       "<div>\n",
       "<style scoped>\n",
       "    .dataframe tbody tr th:only-of-type {\n",
       "        vertical-align: middle;\n",
       "    }\n",
       "\n",
       "    .dataframe tbody tr th {\n",
       "        vertical-align: top;\n",
       "    }\n",
       "\n",
       "    .dataframe thead th {\n",
       "        text-align: right;\n",
       "    }\n",
       "</style>\n",
       "<table border=\"1\" class=\"dataframe\">\n",
       "  <thead>\n",
       "    <tr style=\"text-align: right;\">\n",
       "      <th></th>\n",
       "      <th>name</th>\n",
       "      <th>year</th>\n",
       "      <th>selling_price</th>\n",
       "      <th>km_driven</th>\n",
       "      <th>fuel</th>\n",
       "      <th>transmission</th>\n",
       "      <th>owner</th>\n",
       "    </tr>\n",
       "  </thead>\n",
       "  <tbody>\n",
       "    <tr>\n",
       "      <th>0</th>\n",
       "      <td>Maruti Swift Dzire VDI</td>\n",
       "      <td>2014</td>\n",
       "      <td>450000</td>\n",
       "      <td>145500</td>\n",
       "      <td>0</td>\n",
       "      <td>0</td>\n",
       "      <td>0</td>\n",
       "    </tr>\n",
       "    <tr>\n",
       "      <th>1</th>\n",
       "      <td>Skoda Rapid 1.5 TDI Ambition</td>\n",
       "      <td>2014</td>\n",
       "      <td>370000</td>\n",
       "      <td>120000</td>\n",
       "      <td>0</td>\n",
       "      <td>0</td>\n",
       "      <td>1</td>\n",
       "    </tr>\n",
       "    <tr>\n",
       "      <th>2</th>\n",
       "      <td>Honda City 2017-2020 EXi</td>\n",
       "      <td>2006</td>\n",
       "      <td>158000</td>\n",
       "      <td>140000</td>\n",
       "      <td>1</td>\n",
       "      <td>0</td>\n",
       "      <td>2</td>\n",
       "    </tr>\n",
       "    <tr>\n",
       "      <th>3</th>\n",
       "      <td>Hyundai i20 Sportz Diesel</td>\n",
       "      <td>2010</td>\n",
       "      <td>225000</td>\n",
       "      <td>127000</td>\n",
       "      <td>0</td>\n",
       "      <td>0</td>\n",
       "      <td>0</td>\n",
       "    </tr>\n",
       "    <tr>\n",
       "      <th>4</th>\n",
       "      <td>Maruti Swift VXI BSIII</td>\n",
       "      <td>2007</td>\n",
       "      <td>130000</td>\n",
       "      <td>120000</td>\n",
       "      <td>1</td>\n",
       "      <td>0</td>\n",
       "      <td>0</td>\n",
       "    </tr>\n",
       "    <tr>\n",
       "      <th>...</th>\n",
       "      <td>...</td>\n",
       "      <td>...</td>\n",
       "      <td>...</td>\n",
       "      <td>...</td>\n",
       "      <td>...</td>\n",
       "      <td>...</td>\n",
       "      <td>...</td>\n",
       "    </tr>\n",
       "    <tr>\n",
       "      <th>8123</th>\n",
       "      <td>Hyundai i20 Magna</td>\n",
       "      <td>2013</td>\n",
       "      <td>320000</td>\n",
       "      <td>110000</td>\n",
       "      <td>1</td>\n",
       "      <td>0</td>\n",
       "      <td>0</td>\n",
       "    </tr>\n",
       "    <tr>\n",
       "      <th>8124</th>\n",
       "      <td>Hyundai Verna CRDi SX</td>\n",
       "      <td>2007</td>\n",
       "      <td>135000</td>\n",
       "      <td>119000</td>\n",
       "      <td>0</td>\n",
       "      <td>0</td>\n",
       "      <td>3</td>\n",
       "    </tr>\n",
       "    <tr>\n",
       "      <th>8125</th>\n",
       "      <td>Maruti Swift Dzire ZDi</td>\n",
       "      <td>2009</td>\n",
       "      <td>382000</td>\n",
       "      <td>120000</td>\n",
       "      <td>0</td>\n",
       "      <td>0</td>\n",
       "      <td>0</td>\n",
       "    </tr>\n",
       "    <tr>\n",
       "      <th>8126</th>\n",
       "      <td>Tata Indigo CR4</td>\n",
       "      <td>2013</td>\n",
       "      <td>290000</td>\n",
       "      <td>25000</td>\n",
       "      <td>0</td>\n",
       "      <td>0</td>\n",
       "      <td>0</td>\n",
       "    </tr>\n",
       "    <tr>\n",
       "      <th>8127</th>\n",
       "      <td>Tata Indigo CR4</td>\n",
       "      <td>2013</td>\n",
       "      <td>290000</td>\n",
       "      <td>25000</td>\n",
       "      <td>0</td>\n",
       "      <td>0</td>\n",
       "      <td>0</td>\n",
       "    </tr>\n",
       "  </tbody>\n",
       "</table>\n",
       "<p>8128 rows × 7 columns</p>\n",
       "</div>"
      ],
      "text/plain": [
       "                              name  year  selling_price  km_driven  fuel  \\\n",
       "0           Maruti Swift Dzire VDI  2014         450000     145500     0   \n",
       "1     Skoda Rapid 1.5 TDI Ambition  2014         370000     120000     0   \n",
       "2         Honda City 2017-2020 EXi  2006         158000     140000     1   \n",
       "3        Hyundai i20 Sportz Diesel  2010         225000     127000     0   \n",
       "4           Maruti Swift VXI BSIII  2007         130000     120000     1   \n",
       "...                            ...   ...            ...        ...   ...   \n",
       "8123             Hyundai i20 Magna  2013         320000     110000     1   \n",
       "8124         Hyundai Verna CRDi SX  2007         135000     119000     0   \n",
       "8125        Maruti Swift Dzire ZDi  2009         382000     120000     0   \n",
       "8126               Tata Indigo CR4  2013         290000      25000     0   \n",
       "8127               Tata Indigo CR4  2013         290000      25000     0   \n",
       "\n",
       "      transmission  owner  \n",
       "0                0      0  \n",
       "1                0      1  \n",
       "2                0      2  \n",
       "3                0      0  \n",
       "4                0      0  \n",
       "...            ...    ...  \n",
       "8123             0      0  \n",
       "8124             0      3  \n",
       "8125             0      0  \n",
       "8126             0      0  \n",
       "8127             0      0  \n",
       "\n",
       "[8128 rows x 7 columns]"
      ]
     },
     "execution_count": 8,
     "metadata": {},
     "output_type": "execute_result"
    }
   ],
   "source": [
    "cars"
   ]
  },
  {
   "cell_type": "code",
   "execution_count": 9,
   "metadata": {
    "colab": {
     "base_uri": "https://localhost:8080/",
     "height": 232
    },
    "id": "u90OP1WSd-k3",
    "outputId": "7580ac7f-e532-4710-eb1a-617a272666b3"
   },
   "outputs": [
    {
     "data": {
      "text/html": [
       "<div>\n",
       "<style scoped>\n",
       "    .dataframe tbody tr th:only-of-type {\n",
       "        vertical-align: middle;\n",
       "    }\n",
       "\n",
       "    .dataframe tbody tr th {\n",
       "        vertical-align: top;\n",
       "    }\n",
       "\n",
       "    .dataframe thead th {\n",
       "        text-align: right;\n",
       "    }\n",
       "</style>\n",
       "<table border=\"1\" class=\"dataframe\">\n",
       "  <thead>\n",
       "    <tr style=\"text-align: right;\">\n",
       "      <th></th>\n",
       "      <th>year</th>\n",
       "      <th>selling_price</th>\n",
       "      <th>km_driven</th>\n",
       "      <th>fuel</th>\n",
       "      <th>transmission</th>\n",
       "      <th>owner</th>\n",
       "    </tr>\n",
       "  </thead>\n",
       "  <tbody>\n",
       "    <tr>\n",
       "      <th>year</th>\n",
       "      <td>1.000000</td>\n",
       "      <td>0.414092</td>\n",
       "      <td>-0.418006</td>\n",
       "      <td>-0.063381</td>\n",
       "      <td>0.244707</td>\n",
       "      <td>-0.504905</td>\n",
       "    </tr>\n",
       "    <tr>\n",
       "      <th>selling_price</th>\n",
       "      <td>0.414092</td>\n",
       "      <td>1.000000</td>\n",
       "      <td>-0.225534</td>\n",
       "      <td>-0.205453</td>\n",
       "      <td>0.588845</td>\n",
       "      <td>-0.221915</td>\n",
       "    </tr>\n",
       "    <tr>\n",
       "      <th>km_driven</th>\n",
       "      <td>-0.418006</td>\n",
       "      <td>-0.225534</td>\n",
       "      <td>1.000000</td>\n",
       "      <td>-0.240273</td>\n",
       "      <td>-0.201229</td>\n",
       "      <td>0.282745</td>\n",
       "    </tr>\n",
       "    <tr>\n",
       "      <th>fuel</th>\n",
       "      <td>-0.063381</td>\n",
       "      <td>-0.205453</td>\n",
       "      <td>-0.240273</td>\n",
       "      <td>1.000000</td>\n",
       "      <td>0.011879</td>\n",
       "      <td>0.000081</td>\n",
       "    </tr>\n",
       "    <tr>\n",
       "      <th>transmission</th>\n",
       "      <td>0.244707</td>\n",
       "      <td>0.588845</td>\n",
       "      <td>-0.201229</td>\n",
       "      <td>0.011879</td>\n",
       "      <td>1.000000</td>\n",
       "      <td>-0.141456</td>\n",
       "    </tr>\n",
       "    <tr>\n",
       "      <th>owner</th>\n",
       "      <td>-0.504905</td>\n",
       "      <td>-0.221915</td>\n",
       "      <td>0.282745</td>\n",
       "      <td>0.000081</td>\n",
       "      <td>-0.141456</td>\n",
       "      <td>1.000000</td>\n",
       "    </tr>\n",
       "  </tbody>\n",
       "</table>\n",
       "</div>"
      ],
      "text/plain": [
       "                   year  selling_price  km_driven      fuel  transmission  \\\n",
       "year           1.000000       0.414092  -0.418006 -0.063381      0.244707   \n",
       "selling_price  0.414092       1.000000  -0.225534 -0.205453      0.588845   \n",
       "km_driven     -0.418006      -0.225534   1.000000 -0.240273     -0.201229   \n",
       "fuel          -0.063381      -0.205453  -0.240273  1.000000      0.011879   \n",
       "transmission   0.244707       0.588845  -0.201229  0.011879      1.000000   \n",
       "owner         -0.504905      -0.221915   0.282745  0.000081     -0.141456   \n",
       "\n",
       "                  owner  \n",
       "year          -0.504905  \n",
       "selling_price -0.221915  \n",
       "km_driven      0.282745  \n",
       "fuel           0.000081  \n",
       "transmission  -0.141456  \n",
       "owner          1.000000  "
      ]
     },
     "execution_count": 9,
     "metadata": {},
     "output_type": "execute_result"
    }
   ],
   "source": [
    "correlation = cars.corr()\n",
    "\n",
    "correlation"
   ]
  },
  {
   "cell_type": "markdown",
   "metadata": {
    "id": "N54gG1yje4n1"
   },
   "source": [
    "The data and its distribution can be visulaized for a better understanding."
   ]
  },
  {
   "cell_type": "markdown",
   "metadata": {
    "id": "SR95e4mRfleg"
   },
   "source": [
    "## Visualization"
   ]
  },
  {
   "cell_type": "code",
   "execution_count": 10,
   "metadata": {
    "id": "CQ0x5f3Gf24g"
   },
   "outputs": [],
   "source": [
    "import matplotlib.pyplot as plt\n",
    "import seaborn as sns"
   ]
  },
  {
   "cell_type": "code",
   "execution_count": 12,
   "metadata": {
    "colab": {
     "base_uri": "https://localhost:8080/",
     "height": 595
    },
    "id": "Mn9BdSuqftK1",
    "outputId": "c57ff1c3-33fc-48e9-e45a-4ca5cd5ee6d1"
   },
   "outputs": [
    {
     "data": {
      "text/plain": [
       "<matplotlib.axes._subplots.AxesSubplot at 0x140025e1e80>"
      ]
     },
     "execution_count": 12,
     "metadata": {},
     "output_type": "execute_result"
    },
    {
     "data": {
      "image/png": "[encoded data removed]",
      "text/plain": [
       "<Figure size 720x720 with 2 Axes>"
      ]
     },
     "metadata": {
      "needs_background": "light"
     },
     "output_type": "display_data"
    }
   ],
   "source": [
    "# Setting sns theme\n",
    "#sns.set_theme(color_codes=True, style='darkgrid', palette='deep', font='sans-serif')\n",
    "\n",
    "# Constructing a heatmap to understand the correlation\n",
    "plt.figure(figsize=(10, 10))\n",
    "sns.heatmap(correlation, cbar=True, square=True, fmt='.1f', annot=True, annot_kws={'size': 8}, cmap='Blues')"
   ]
  },
  {
   "cell_type": "markdown",
   "metadata": {
    "id": "FTkJNqk-rEAB"
   },
   "source": [
    "## Univariate - Analysis\n",
    "\n",
    "### Boxplot"
   ]
  },
  {
   "cell_type": "code",
   "execution_count": 13,
   "metadata": {
    "colab": {
     "base_uri": "https://localhost:8080/",
     "height": 302
    },
    "id": "EzJV7iM6izjA",
    "outputId": "d2543d53-7247-4a99-eb1d-36ee292d42c1"
   },
   "outputs": [
    {
     "data": {
      "text/plain": [
       "Text(0.5, 0, 'selling_price')"
      ]
     },
     "execution_count": 13,
     "metadata": {},
     "output_type": "execute_result"
    },
    {
     "data": {
      "image/png": "[encoded data removed]",
      "text/plain": [
       "<Figure size 432x288 with 1 Axes>"
      ]
     },
     "metadata": {
      "needs_background": "light"
     },
     "output_type": "display_data"
    }
   ],
   "source": [
    "#selling price outliers visualized\n",
    "sns.boxplot(x=cars['selling_price'])\n",
    "plt.xlabel('selling_price')"
   ]
  },
  {
   "cell_type": "markdown",
   "metadata": {
    "id": "sEtXXeZ9qvYS"
   },
   "source": [
    "There are values that can be treated as the outliers but those cannot be ommited from the data as they could be genuine."
   ]
  },
  {
   "cell_type": "markdown",
   "metadata": {
    "id": "e3bg8fG7dT0Y"
   },
   "source": [
    "The maximum value of the above mentioned feature is 1,00,00,000.\n",
    "\n",
    "We can see the respective row where the max value is rested."
   ]
  },
  {
   "cell_type": "code",
   "execution_count": 14,
   "metadata": {
    "colab": {
     "base_uri": "https://localhost:8080/",
     "height": 78
    },
    "id": "5Lnirnjip6Cr",
    "outputId": "4757bd18-0669-433f-d1af-246f373792af"
   },
   "outputs": [
    {
     "data": {
      "text/html": [
       "<div>\n",
       "<style scoped>\n",
       "    .dataframe tbody tr th:only-of-type {\n",
       "        vertical-align: middle;\n",
       "    }\n",
       "\n",
       "    .dataframe tbody tr th {\n",
       "        vertical-align: top;\n",
       "    }\n",
       "\n",
       "    .dataframe thead th {\n",
       "        text-align: right;\n",
       "    }\n",
       "</style>\n",
       "<table border=\"1\" class=\"dataframe\">\n",
       "  <thead>\n",
       "    <tr style=\"text-align: right;\">\n",
       "      <th></th>\n",
       "      <th>name</th>\n",
       "      <th>year</th>\n",
       "      <th>selling_price</th>\n",
       "      <th>km_driven</th>\n",
       "      <th>fuel</th>\n",
       "      <th>transmission</th>\n",
       "      <th>owner</th>\n",
       "    </tr>\n",
       "  </thead>\n",
       "  <tbody>\n",
       "    <tr>\n",
       "      <th>170</th>\n",
       "      <td>Volvo XC90 T8 Excellence BSIV</td>\n",
       "      <td>2017</td>\n",
       "      <td>10000000</td>\n",
       "      <td>30000</td>\n",
       "      <td>1</td>\n",
       "      <td>1</td>\n",
       "      <td>0</td>\n",
       "    </tr>\n",
       "  </tbody>\n",
       "</table>\n",
       "</div>"
      ],
      "text/plain": [
       "                              name  year  selling_price  km_driven  fuel  \\\n",
       "170  Volvo XC90 T8 Excellence BSIV  2017       10000000      30000     1   \n",
       "\n",
       "     transmission  owner  \n",
       "170             1      0  "
      ]
     },
     "execution_count": 14,
     "metadata": {},
     "output_type": "execute_result"
    }
   ],
   "source": [
    "cars[cars['selling_price'] == 10000000]"
   ]
  },
  {
   "cell_type": "markdown",
   "metadata": {
    "id": "7PVN840yt6fI"
   },
   "source": [
    "I've googled the Volvo XC90 T8 car and its price is around 1.40cr at present.\n",
    "\n",
    "Since the model is not new, there is a price cut from its original market price."
   ]
  },
  {
   "cell_type": "code",
   "execution_count": 15,
   "metadata": {
    "colab": {
     "base_uri": "https://localhost:8080/",
     "height": 302
    },
    "id": "1W1UBbPTeriC",
    "outputId": "ef9cbb0e-d62f-4152-9afb-f7d2db9d1f7f"
   },
   "outputs": [
    {
     "data": {
      "text/plain": [
       "Text(0.5, 0, 'km_driven')"
      ]
     },
     "execution_count": 15,
     "metadata": {},
     "output_type": "execute_result"
    },
    {
     "data": {
      "image/png": "[encoded data removed]",
      "text/plain": [
       "<Figure size 432x288 with 1 Axes>"
      ]
     },
     "metadata": {
      "needs_background": "light"
     },
     "output_type": "display_data"
    }
   ],
   "source": [
    "#kms driven outlier visualized\n",
    "sns.boxplot(x=cars['km_driven'])\n",
    "plt.xlabel('km_driven')"
   ]
  },
  {
   "cell_type": "markdown",
   "metadata": {
    "id": "reBHkSXCjQh4"
   },
   "source": [
    "The amount of distance driven in kms by a car can be varied. The above plot evidents the possibility of highest possible distance covered by a car, i.e. 23,60,457 kms is the max value in that column, next is around 15lac kms of distance."
   ]
  },
  {
   "cell_type": "markdown",
   "metadata": {
    "id": "j1TIZN9zmvIQ"
   },
   "source": [
    "## Bi-Variate Analysis.\n",
    "\n",
    "Let's divide the columns into categorical and numerical, it makes easy for us to plot the data at a time altogether."
   ]
  },
  {
   "cell_type": "code",
   "execution_count": 16,
   "metadata": {
    "id": "P9Gut70OlJ-H"
   },
   "outputs": [],
   "source": [
    "#numerical features\n",
    "numerical = [\n",
    "    'year',\n",
    "    'km_driven',\n",
    "    'selling_price'\n",
    "]\n",
    "\n",
    "#categorical features\n",
    "categorical = [\n",
    "    'fuel',\n",
    "    'transmission',\n",
    "    'owner'\n",
    "]"
   ]
  },
  {
   "cell_type": "code",
   "execution_count": 17,
   "metadata": {
    "colab": {
     "base_uri": "https://localhost:8080/",
     "height": 821
    },
    "id": "K9OuWPYFnNSe",
    "outputId": "739a7e9b-a2f2-4072-c31e-fb099bf16ec7"
   },
   "outputs": [
    {
     "data": {
      "image/png": "[encoded data removed]",
      "text/plain": [
       "<Figure size 432x288 with 1 Axes>"
      ]
     },
     "metadata": {
      "needs_background": "light"
     },
     "output_type": "display_data"
    },
    {
     "data": {
      "image/png": "[encoded data removed]",
      "text/plain": [
       "<Figure size 432x288 with 1 Axes>"
      ]
     },
     "metadata": {
      "needs_background": "light"
     },
     "output_type": "display_data"
    },
    {
     "data": {
      "image/png": "[encoded data removed]",
      "text/plain": [
       "<Figure size 432x288 with 1 Axes>"
      ]
     },
     "metadata": {
      "needs_background": "light"
     },
     "output_type": "display_data"
    }
   ],
   "source": [
    "#look at numerical data distribution\n",
    "for i in cars[numerical].columns:\n",
    "    plt.hist(cars[numerical][i], edgecolor='black')\n",
    "    plt.xticks()\n",
    "    plt.xlabel(i)\n",
    "    plt.ylabel('number of cars')\n",
    "    plt.show()"
   ]
  },
  {
   "cell_type": "markdown",
   "metadata": {
    "id": "YuGkD89DrrIk"
   },
   "source": [
    "    Year: The number of cars being sold are directly proportionaly to the years column. Newer the car is, more are those car sales.\n",
    "\n",
    "    Kms driven: The amount of distance covered by the car has a direct influence on its price in the market. The plot clearly shows that the sales of cars are inversely proportional to the kms driven.\n",
    "\n",
    "    selling price: The selling price which is an ultimate step before purchasing is crucial. Selling prices are based on various factors, above factors are some of those. If the price is lesser, more are the cars being sold."
   ]
  },
  {
   "cell_type": "code",
   "execution_count": 18,
   "metadata": {
    "colab": {
     "base_uri": "https://localhost:8080/",
     "height": 821
    },
    "id": "CMNYBg_SmuTq",
    "outputId": "0493c89b-303d-476d-f657-bf575bb92163"
   },
   "outputs": [
    {
     "data": {
      "image/png": "[encoded data removed]",
      "text/plain": [
       "<Figure size 432x288 with 1 Axes>"
      ]
     },
     "metadata": {
      "needs_background": "light"
     },
     "output_type": "display_data"
    },
    {
     "data": {
      "image/png": "[encoded data removed]",
      "text/plain": [
       "<Figure size 432x288 with 1 Axes>"
      ]
     },
     "metadata": {
      "needs_background": "light"
     },
     "output_type": "display_data"
    },
    {
     "data": {
      "image/png": "[encoded data removed]",
      "text/plain": [
       "<Figure size 432x288 with 1 Axes>"
      ]
     },
     "metadata": {
      "needs_background": "light"
     },
     "output_type": "display_data"
    }
   ],
   "source": [
    "#look at categorical data distribution\n",
    "for i in cars[categorical].columns:\n",
    "    plt.hist(cars[categorical][i], edgecolor='black')\n",
    "    plt.xticks()\n",
    "    plt.xlabel(i)\n",
    "    plt.ylabel('number of cars')\n",
    "    plt.show()"
   ]
  },
  {
   "cell_type": "code",
   "execution_count": 19,
   "metadata": {
    "id": "6gUJw0OntzOm"
   },
   "outputs": [],
   "source": [
    "\n",
    "#'fuel':{'Diesel': 0, 'Petrol': 1, 'CNG': 2, 'LPG': 3}}, inplace=True)\n",
    "\n",
    "\n",
    "#{'transmission':{'Manual': 0, 'Automatic': 1}}, inplace=True)\n",
    "\n",
    "\n",
    "#{'owner':{'1st': 0, '2nd': 1, '3rd': 2, '4th': 3, 'Test Drive Car': 4}}, inplace=True)"
   ]
  },
  {
   "cell_type": "markdown",
   "metadata": {
    "id": "7rgcebvWuWKR"
   },
   "source": [
    "    fuel: Diesel cars are sold higher than the other fuel type cars. Cabs are everywhere and the cabs are mostly diesel fuel type. Petrol comes next in the line while LPG and CNG are tailenders.\n",
    "\n",
    "    transmission: Manual cars sold higher than the automatic ones. Manual cars have less fuel consumption whereas the automatic ones do not give the enough mileage, thus, it's natural that the diesel cars sold more.\n",
    "\n",
    "    Owner: The no.of previous owners of the car decides the final pricing, more are the owners, lesser will be the selling price."
   ]
  },
  {
   "cell_type": "code",
   "execution_count": 20,
   "metadata": {
    "colab": {
     "base_uri": "https://localhost:8080/",
     "height": 454
    },
    "id": "DQOMBBj9xsNa",
    "outputId": "ff1b1773-3b08-40b5-9aed-9f0fe40d2300"
   },
   "outputs": [
    {
     "data": {
      "text/plain": [
       "<seaborn.axisgrid.JointGrid at 0x14002de0ee0>"
      ]
     },
     "execution_count": 20,
     "metadata": {},
     "output_type": "execute_result"
    },
    {
     "data": {
      "image/png": "[encoded data removed]",
      "text/plain": [
       "<Figure size 432x432 with 3 Axes>"
      ]
     },
     "metadata": {
      "needs_background": "light"
     },
     "output_type": "display_data"
    }
   ],
   "source": [
    "sns.jointplot(x=\"year\", y=\"km_driven\", data=cars, kind=\"reg\")"
   ]
  },
  {
   "cell_type": "markdown",
   "metadata": {
    "id": "s4FPYKs4zEFH"
   },
   "source": [
    "The overall plot can give a gist of how much the car might have got driven the number of kms with respect to its year of purhcase.\n",
    "\n",
    "From 2015 to 2020 - The kms driven is less compared its preceding year.\n",
    "\n",
    "from 2010 to 2015 - The number of kms covered by the vehicle are significantly high.\n",
    "\n",
    "Thus, kms driven and the year of purchase for deciding the selling price of cars are crucial.\n",
    "\n",
    "---\n",
    "\n"
   ]
  },
  {
   "cell_type": "code",
   "execution_count": 21,
   "metadata": {
    "colab": {
     "base_uri": "https://localhost:8080/",
     "height": 400
    },
    "id": "1_4HY8bx5co3",
    "outputId": "7907e725-d7e7-407e-cd3d-3e749a6b4e34"
   },
   "outputs": [
    {
     "data": {
      "text/plain": [
       "<seaborn.axisgrid.FacetGrid at 0x14002df62b0>"
      ]
     },
     "execution_count": 21,
     "metadata": {},
     "output_type": "execute_result"
    },
    {
     "data": {
      "image/png": "[encoded data removed]",
      "text/plain": [
       "<Figure size 360x360 with 1 Axes>"
      ]
     },
     "metadata": {
      "needs_background": "light"
     },
     "output_type": "display_data"
    }
   ],
   "source": [
    "sns.lmplot(x=\"year\", y=\"selling_price\", data=cars, lowess=True)"
   ]
  },
  {
   "cell_type": "markdown",
   "metadata": {
    "id": "___Q-YxA5nTd"
   },
   "source": [
    "Clearly, the plot suggests that the selling price hikes with respect to year elements nearing 2020.\n",
    "\n",
    "Newer the model is, more will be the selling price. It's natural to assume the higher price cause of its mfg year."
   ]
  },
  {
   "cell_type": "code",
   "execution_count": 22,
   "metadata": {
    "colab": {
     "base_uri": "https://localhost:8080/",
     "height": 295
    },
    "id": "-RjiMJ6KYULH",
    "outputId": "b3a3d1f4-4306-48be-ccca-26ec432ced63"
   },
   "outputs": [
    {
     "data": {
      "image/png": "[encoded data removed]",
      "text/plain": [
       "<Figure size 432x288 with 1 Axes>"
      ]
     },
     "metadata": {
      "needs_background": "light"
     },
     "output_type": "display_data"
    }
   ],
   "source": [
    "#stripplot comparing selling price and fuel type\n",
    "sns.stripplot(y=cars['selling_price'],\n",
    "              x=cars['fuel'])\n",
    "plt.show()"
   ]
  },
  {
   "cell_type": "markdown",
   "metadata": {
    "id": "4iohkyxmYfPS"
   },
   "source": [
    "0-Diesel fuel type distribution with the selling price looks more thick and more in number.\n",
    "\n",
    "1-Petrol fuel type distribution is less thicker but more varied.\n",
    "\n",
    "2 and 3 representing LPG and CNG are low in count. Not many check these options while purchasing"
   ]
  },
  {
   "cell_type": "code",
   "execution_count": 23,
   "metadata": {
    "colab": {
     "base_uri": "https://localhost:8080/",
     "height": 687
    },
    "id": "TJ9d1Rdb1IlS",
    "outputId": "1a91ccac-32ae-4f25-e466-34708253d7b9"
   },
   "outputs": [
    {
     "data": {
      "text/plain": [
       "<seaborn.axisgrid.FacetGrid at 0x14002cc5490>"
      ]
     },
     "execution_count": 23,
     "metadata": {},
     "output_type": "execute_result"
    },
    {
     "data": {
      "image/png": "[encoded data removed]",
      "text/plain": [
       "<Figure size 432x648 with 5 Axes>"
      ]
     },
     "metadata": {
      "needs_background": "light"
     },
     "output_type": "display_data"
    }
   ],
   "source": [
    "sns.lmplot(x=\"year\", y=\"selling_price\", col=\"owner\", data=cars, col_wrap=2, height=3)"
   ]
  },
  {
   "cell_type": "markdown",
   "metadata": {
    "id": "Y_fHHQyj1R-S"
   },
   "source": [
    "No.of owners and the year of purchase affects the selling price in the following  wise:\n",
    "\n",
    "  1) lesser the count of owners, earlier year of purchase will hike the selling price\n",
    "\n",
    "  2) More the count of owners, late year of purchase will depreciate the selling price.\n",
    "\n",
    "The basic mentality of any customer is to go for a car which is as good as possible with lesser kms driven, year of purchase and lesser previous owners. "
   ]
  },
  {
   "cell_type": "markdown",
   "metadata": {
    "id": "6O4PQ-9NceDk"
   },
   "source": [
    "## Model Building"
   ]
  },
  {
   "cell_type": "code",
   "execution_count": 24,
   "metadata": {
    "id": "ol1H0zCQcPAQ"
   },
   "outputs": [],
   "source": [
    "X = cars.drop(['name', 'selling_price'], axis=1)\n",
    "y = cars['selling_price']"
   ]
  },
  {
   "cell_type": "markdown",
   "metadata": {},
   "source": [
    "'name' feature is dropped from the data since it do not add up anything to the final result."
   ]
  },
  {
   "cell_type": "code",
   "execution_count": 25,
   "metadata": {
    "id": "A1NCh43PdHWD"
   },
   "outputs": [
    {
     "name": "stderr",
     "output_type": "stream",
     "text": [
      "<ipython-input-25-8778c7400b2e>:9: FutureWarning: pandas.util.testing is deprecated. Use the functions in the public API at pandas.testing instead.\n",
      "  import pandas.util.testing as tm\n"
     ]
    }
   ],
   "source": [
    "from sklearn.model_selection import train_test_split\n",
    "from sklearn import metrics\n",
    "from xgboost import XGBRegressor\n",
    "\n",
    "from sklearn.metrics import mean_absolute_error\n",
    "from sklearn.metrics import mean_squared_error\n",
    "from sklearn.metrics import r2_score\n",
    "\n",
    "import pandas.util.testing as tm"
   ]
  },
  {
   "cell_type": "code",
   "execution_count": 26,
   "metadata": {
    "id": "S-Iml6Y3cx59"
   },
   "outputs": [],
   "source": [
    "trainX, testX, trainY, testY = train_test_split(X, y, test_size=0.1, shuffle=False, random_state=1)"
   ]
  },
  {
   "cell_type": "markdown",
   "metadata": {
    "id": "uh_HE3N2dMSC"
   },
   "source": [
    "### XGBRegressor"
   ]
  },
  {
   "cell_type": "code",
   "execution_count": 27,
   "metadata": {
    "id": "TZbVrzqidS9R"
   },
   "outputs": [],
   "source": [
    "regressor = XGBRegressor(\n",
    "    gamma=0,\n",
    "    learning_rate=0.1,\n",
    "    max_depth=5,\n",
    "    n_estimators=1000,\n",
    "    n_jobs=16,\n",
    "    objective='reg:squarederror',\n",
    "    subsample=0.8,\n",
    "    scale_pos_weight=0,\n",
    "    reg_alpha=0,\n",
    "    reg_lambda=1\n",
    ")\n",
    "\n",
    "model = regressor.fit(trainX, trainY)"
   ]
  },
  {
   "cell_type": "code",
   "execution_count": 28,
   "metadata": {
    "id": "IselVzOyhr9W"
   },
   "outputs": [],
   "source": [
    "# predict X train\n",
    "trainPredict = model.predict(trainX)\n",
    "\n",
    "# predict X test  \n",
    "testPredict = model.predict(testX)"
   ]
  },
  {
   "cell_type": "code",
   "execution_count": 29,
   "metadata": {
    "colab": {
     "base_uri": "https://localhost:8080/"
    },
    "id": "rz-zbZofhyQ1",
    "outputId": "39a9133b-9d63-4681-8274-d3a1d8ca8222"
   },
   "outputs": [
    {
     "name": "stdout",
     "output_type": "stream",
     "text": [
      "R-Squared : 0.8965744864824657\n",
      "MAE : 121393.77318544942\n",
      "MSE : 67307617283.07374\n",
      "RMSE : 259437.11624028228\n",
      "Median : 69175.4375\n"
     ]
    }
   ],
   "source": [
    "# Train X \n",
    "\n",
    "import math\n",
    "\n",
    "# R Squared \n",
    "trainRsquared = metrics.r2_score(trainY, trainPredict)\n",
    "print(f'R-Squared : {trainRsquared}')\n",
    "\n",
    "# Mean Absolute Error\n",
    "trainMAE = metrics.mean_absolute_error(trainY, trainPredict)\n",
    "print(f'MAE : {trainMAE}')\n",
    "\n",
    "#  Mean Squared Error\n",
    "trainMSE = metrics.mean_squared_error(trainY, trainPredict)\n",
    "print(f'MSE : {trainMSE}')\n",
    "\n",
    "#  Root Mean Squared Error\n",
    "trainRMSE = math.sqrt(metrics.mean_squared_error(trainY, trainPredict))\n",
    "print(f'RMSE : {trainRMSE}')\n",
    "\n",
    "# Median\n",
    "trainM = metrics.median_absolute_error(trainY, trainPredict)\n",
    "print(f'Median : {trainM}')"
   ]
  },
  {
   "cell_type": "code",
   "execution_count": 30,
   "metadata": {
    "colab": {
     "base_uri": "https://localhost:8080/"
    },
    "id": "Y-fr94oAp6HX",
    "outputId": "6e1853df-1a47-4241-ee62-4d896ddb3089"
   },
   "outputs": [
    {
     "name": "stdout",
     "output_type": "stream",
     "text": [
      "R-Squared : 0.7560070124453683\n",
      "MAE : 204793.27039309943\n",
      "MSE : 156528522678.5578\n",
      "RMSE : 395636.85707800003\n",
      "Median : 113149.8125\n"
     ]
    }
   ],
   "source": [
    "# Test X \n",
    "\n",
    "# R Squared \n",
    "testRsquared = metrics.r2_score(testY, testPredict)\n",
    "print(f'R-Squared : {testRsquared}')\n",
    "\n",
    "# Mean Absolute Error\n",
    "testMAE = metrics.mean_absolute_error(testY, testPredict)\n",
    "print(f'MAE : {testMAE}')\n",
    "\n",
    "#  Mean Squared Error\n",
    "testMSE = metrics.mean_squared_error(testY, testPredict)\n",
    "print(f'MSE : {testMSE}')\n",
    "\n",
    "#  Root Mean Squared Error\n",
    "testRMSE = math.sqrt(metrics.mean_squared_error(testY, testPredict))\n",
    "print(f'RMSE : {testRMSE}')\n",
    "\n",
    "# Median\n",
    "testM = metrics.median_absolute_error(testY, testPredict)\n",
    "print(f'Median : {testM}')"
   ]
  },
  {
   "cell_type": "markdown",
   "metadata": {},
   "source": [
    "### Defining the method to fit in the different models ony by one to find the maximum r2 score along with the appropriate random_state value."
   ]
  },
  {
   "cell_type": "code",
   "execution_count": 31,
   "metadata": {
    "id": "OtUP8z1JvRgV"
   },
   "outputs": [],
   "source": [
    "def maxr2_score(mod,X,y):\n",
    "    max_r_score=0\n",
    "    for r in range(42,100):\n",
    "        trainX, testX, trainY, testY = train_test_split(X, y,random_state = r,test_size=0.20)\n",
    "        mod.fit(trainX,trainY)\n",
    "        y_pred = mod.predict(testX)\n",
    "        r2_scr=r2_score(testY,y_pred)\n",
    "        print(\"r2 score corresponding to \",r,\" is \",r2_scr)\n",
    "        if r2_scr>max_r_score:\n",
    "            max_r_score=r2_scr\n",
    "            final_r=r\n",
    "    print(\"max r2 score corresponding to \",final_r,\" is \",max_r_score)\n",
    "    return final_r"
   ]
  },
  {
   "cell_type": "markdown",
   "metadata": {},
   "source": [
    "#### Cross validation score "
   ]
  },
  {
   "cell_type": "code",
   "execution_count": 32,
   "metadata": {
    "id": "XscS6aSxx2kK"
   },
   "outputs": [],
   "source": [
    "#Cross_val_score fucntion \n",
    "\n",
    "from sklearn.model_selection import cross_val_score\n",
    "def model_evaluation(model,X,y):\n",
    "    c_scores=cross_val_score(model,X,y,cv=5,scoring=\"r2\")\n",
    "    print(\"Mean r2 score for regressor: \",c_scores.mean())\n",
    "    print(\"standard deviation in r2 score for regressor: \",c_scores.std())\n",
    "    print(c_scores)"
   ]
  },
  {
   "cell_type": "markdown",
   "metadata": {},
   "source": [
    "##### Cross validating XGBoost"
   ]
  },
  {
   "cell_type": "code",
   "execution_count": 45,
   "metadata": {},
   "outputs": [
    {
     "name": "stdout",
     "output_type": "stream",
     "text": [
      "Mean r2 score for regressor:  0.7325567543136582\n",
      "standard deviation in r2 score for regressor:  0.06985586082669848\n",
      "[0.78157848 0.69792646 0.76990684 0.61165127 0.80172072]\n"
     ]
    }
   ],
   "source": [
    "model_evaluation(regressor, X, y)"
   ]
  },
  {
   "cell_type": "markdown",
   "metadata": {},
   "source": [
    "### Random Forrest Regressor"
   ]
  },
  {
   "cell_type": "code",
   "execution_count": 34,
   "metadata": {
    "colab": {
     "base_uri": "https://localhost:8080/"
    },
    "id": "MCOBeLfUyJNf",
    "outputId": "2ca92441-3131-492b-8cbf-72aad7cf0222"
   },
   "outputs": [
    {
     "data": {
      "text/plain": [
       "{'n_estimators': 500}"
      ]
     },
     "execution_count": 34,
     "metadata": {},
     "output_type": "execute_result"
    }
   ],
   "source": [
    "from sklearn.ensemble import RandomForestRegressor\n",
    "from sklearn.model_selection import GridSearchCV\n",
    "import warnings\n",
    "warnings.filterwarnings(\"ignore\")\n",
    "rfr=RandomForestRegressor()\n",
    "parameters = {\"n_estimators\":[10,100,500]}\n",
    "clf = GridSearchCV(rfr, parameters, cv=5,scoring=\"r2\")\n",
    "clf.fit(X, y)\n",
    "clf.best_params_"
   ]
  },
  {
   "cell_type": "code",
   "execution_count": 35,
   "metadata": {
    "scrolled": true
   },
   "outputs": [
    {
     "name": "stdout",
     "output_type": "stream",
     "text": [
      "r2 score corresponding to  42  is  0.7651736064523335\n",
      "r2 score corresponding to  43  is  0.7215847062180205\n",
      "r2 score corresponding to  44  is  0.7214623077693917\n",
      "r2 score corresponding to  45  is  0.7556443922333961\n",
      "r2 score corresponding to  46  is  0.8055744446119935\n",
      "r2 score corresponding to  47  is  0.6987453312444405\n",
      "r2 score corresponding to  48  is  0.711223220650799\n",
      "r2 score corresponding to  49  is  0.7758720795518229\n",
      "r2 score corresponding to  50  is  0.7458312783720928\n",
      "r2 score corresponding to  51  is  0.7765111476808529\n",
      "r2 score corresponding to  52  is  0.7785583009548998\n",
      "r2 score corresponding to  53  is  0.7640099254007386\n",
      "r2 score corresponding to  54  is  0.7883741255467991\n",
      "r2 score corresponding to  55  is  0.7732853175868637\n",
      "r2 score corresponding to  56  is  0.7609136619563143\n",
      "r2 score corresponding to  57  is  0.7757802242934735\n",
      "r2 score corresponding to  58  is  0.7178824462588876\n",
      "r2 score corresponding to  59  is  0.7867579767355287\n",
      "r2 score corresponding to  60  is  0.7528777107069645\n",
      "r2 score corresponding to  61  is  0.7712664423320142\n",
      "r2 score corresponding to  62  is  0.7448030781532099\n",
      "r2 score corresponding to  63  is  0.7947718910905509\n",
      "r2 score corresponding to  64  is  0.7581580577048801\n",
      "r2 score corresponding to  65  is  0.7275611083583864\n",
      "r2 score corresponding to  66  is  0.7846734921720465\n",
      "r2 score corresponding to  67  is  0.8141791467623224\n",
      "r2 score corresponding to  68  is  0.7958432146661918\n",
      "r2 score corresponding to  69  is  0.7971663821026254\n",
      "r2 score corresponding to  70  is  0.800639401648845\n",
      "r2 score corresponding to  71  is  0.7601299193742378\n",
      "r2 score corresponding to  72  is  0.8507026579442764\n",
      "r2 score corresponding to  73  is  0.7921612170114153\n",
      "r2 score corresponding to  74  is  0.7991281921390685\n",
      "r2 score corresponding to  75  is  0.8029318348584534\n",
      "r2 score corresponding to  76  is  0.7910548639350163\n",
      "r2 score corresponding to  77  is  0.7579520313225325\n",
      "r2 score corresponding to  78  is  0.7607565214674771\n",
      "r2 score corresponding to  79  is  0.7386836550335079\n",
      "r2 score corresponding to  80  is  0.8340350933250115\n",
      "r2 score corresponding to  81  is  0.7757378718437322\n",
      "r2 score corresponding to  82  is  0.6767688501925008\n",
      "r2 score corresponding to  83  is  0.7410729332826695\n",
      "r2 score corresponding to  84  is  0.7662073543008759\n",
      "r2 score corresponding to  85  is  0.7819853401161335\n",
      "r2 score corresponding to  86  is  0.6809804549246458\n",
      "r2 score corresponding to  87  is  0.7240203091082433\n",
      "r2 score corresponding to  88  is  0.7564037432939649\n",
      "r2 score corresponding to  89  is  0.7122976744702572\n",
      "r2 score corresponding to  90  is  0.7824387752346115\n",
      "r2 score corresponding to  91  is  0.7297478487035991\n",
      "r2 score corresponding to  92  is  0.785505943229363\n",
      "r2 score corresponding to  93  is  0.6951781863181808\n",
      "r2 score corresponding to  94  is  0.7730225502830161\n",
      "r2 score corresponding to  95  is  0.6878393011404772\n",
      "r2 score corresponding to  96  is  0.6452742249544627\n",
      "r2 score corresponding to  97  is  0.755490544283829\n",
      "r2 score corresponding to  98  is  0.7841946231535506\n",
      "r2 score corresponding to  99  is  0.771952705746686\n",
      "max r2 score corresponding to  72  is  0.8507026579442764\n"
     ]
    },
    {
     "data": {
      "text/plain": [
       "72"
      ]
     },
     "execution_count": 35,
     "metadata": {},
     "output_type": "execute_result"
    }
   ],
   "source": [
    "rfr = RandomForestRegressor(n_estimators = 500)\n",
    "maxr2_score(rfr,X,y)"
   ]
  },
  {
   "cell_type": "markdown",
   "metadata": {},
   "source": [
    "#### Cross Validating RFR"
   ]
  },
  {
   "cell_type": "code",
   "execution_count": 36,
   "metadata": {
    "colab": {
     "base_uri": "https://localhost:8080/"
    },
    "id": "nUiJwQBgyotd",
    "outputId": "9a8b5d8a-b8fa-43d1-8709-253153c8dfed"
   },
   "outputs": [
    {
     "name": "stdout",
     "output_type": "stream",
     "text": [
      "Random Forest Regressor\n",
      "\n",
      "\n",
      "Mean r2 score for regressor:  0.7464015997400051\n",
      "standard deviation in r2 score for regressor:  0.0653241464176357\n",
      "[0.79232897 0.70728444 0.80169212 0.63562843 0.79507405]\n"
     ]
    }
   ],
   "source": [
    "#lets chcek Random forest using n_estimators=500 \n",
    "\n",
    "rfr=RandomForestRegressor(n_estimators=500)\n",
    "\n",
    "#Lets check the cross_val_score for Random Forest Regressor\n",
    "\n",
    "print(\"Random Forest Regressor\\n\\n\")\n",
    "model_evaluation(rfr,X,y)"
   ]
  },
  {
   "cell_type": "markdown",
   "metadata": {},
   "source": [
    "### KNR"
   ]
  },
  {
   "cell_type": "code",
   "execution_count": 37,
   "metadata": {
    "colab": {
     "base_uri": "https://localhost:8080/"
    },
    "id": "gZy_6ZG01AEw",
    "outputId": "9e09fd26-1a8a-4ef1-d3ac-f2c5f693d139"
   },
   "outputs": [
    {
     "data": {
      "text/plain": [
       "{'n_neighbors': 3}"
      ]
     },
     "execution_count": 37,
     "metadata": {},
     "output_type": "execute_result"
    }
   ],
   "source": [
    "from sklearn.neighbors import KNeighborsRegressor\n",
    "knr=KNeighborsRegressor()\n",
    "parameters = {\"n_neighbors\":range(2,30)}\n",
    "clf = GridSearchCV(knr, parameters, cv=5,scoring=\"r2\")\n",
    "clf.fit(X, y)\n",
    "clf.best_params_"
   ]
  },
  {
   "cell_type": "code",
   "execution_count": 38,
   "metadata": {
    "colab": {
     "base_uri": "https://localhost:8080/"
    },
    "id": "kGXZHVzW1L25",
    "outputId": "510b2e73-4406-44d9-b5e5-e79f9c008f69",
    "scrolled": true
   },
   "outputs": [
    {
     "name": "stdout",
     "output_type": "stream",
     "text": [
      "r2 score corresponding to  42  is  0.5762697946767583\n",
      "r2 score corresponding to  43  is  0.5869780830183162\n",
      "r2 score corresponding to  44  is  0.5534687200009403\n",
      "r2 score corresponding to  45  is  0.5750796137044403\n",
      "r2 score corresponding to  46  is  0.6704137460911881\n",
      "r2 score corresponding to  47  is  0.5621349202712466\n",
      "r2 score corresponding to  48  is  0.5866109764671166\n",
      "r2 score corresponding to  49  is  0.5793009455638488\n",
      "r2 score corresponding to  50  is  0.5766975466072364\n",
      "r2 score corresponding to  51  is  0.65540270754275\n",
      "r2 score corresponding to  52  is  0.6780755170313122\n",
      "r2 score corresponding to  53  is  0.6575800072400491\n",
      "r2 score corresponding to  54  is  0.6440823909944984\n",
      "r2 score corresponding to  55  is  0.6409029618087483\n",
      "r2 score corresponding to  56  is  0.630996538691549\n",
      "r2 score corresponding to  57  is  0.6153084766043491\n",
      "r2 score corresponding to  58  is  0.6023647237003105\n",
      "r2 score corresponding to  59  is  0.6670727474967657\n",
      "r2 score corresponding to  60  is  0.5961657393304718\n",
      "r2 score corresponding to  61  is  0.6816094743126274\n",
      "r2 score corresponding to  62  is  0.6362728196096598\n",
      "r2 score corresponding to  63  is  0.7353278706867139\n",
      "r2 score corresponding to  64  is  0.6429382263814146\n",
      "r2 score corresponding to  65  is  0.6119034791554048\n",
      "r2 score corresponding to  66  is  0.6480655229875328\n",
      "r2 score corresponding to  67  is  0.6850710207090198\n",
      "r2 score corresponding to  68  is  0.6959379053929279\n",
      "r2 score corresponding to  69  is  0.6858876771181073\n",
      "r2 score corresponding to  70  is  0.6938554234788961\n",
      "r2 score corresponding to  71  is  0.634092969970272\n",
      "r2 score corresponding to  72  is  0.7119402679101234\n",
      "r2 score corresponding to  73  is  0.6137693167712264\n",
      "r2 score corresponding to  74  is  0.7089712497962356\n",
      "r2 score corresponding to  75  is  0.6314164829838382\n",
      "r2 score corresponding to  76  is  0.627703696806226\n",
      "r2 score corresponding to  77  is  0.6838663997235634\n",
      "r2 score corresponding to  78  is  0.6461242159804809\n",
      "r2 score corresponding to  79  is  0.6329996478842849\n",
      "r2 score corresponding to  80  is  0.7255708946698287\n",
      "r2 score corresponding to  81  is  0.6730071857688492\n",
      "r2 score corresponding to  82  is  0.5563289231790982\n",
      "r2 score corresponding to  83  is  0.6308323097041245\n",
      "r2 score corresponding to  84  is  0.6464507914451221\n",
      "r2 score corresponding to  85  is  0.6881466808214607\n",
      "r2 score corresponding to  86  is  0.5740383678502088\n",
      "r2 score corresponding to  87  is  0.6269255223131642\n",
      "r2 score corresponding to  88  is  0.6937116804785142\n",
      "r2 score corresponding to  89  is  0.612672906201355\n",
      "r2 score corresponding to  90  is  0.6729395509854124\n",
      "r2 score corresponding to  91  is  0.6092078465347966\n",
      "r2 score corresponding to  92  is  0.6888345288292339\n",
      "r2 score corresponding to  93  is  0.5425060619261377\n",
      "r2 score corresponding to  94  is  0.7330838447645698\n",
      "r2 score corresponding to  95  is  0.6050899049115666\n",
      "r2 score corresponding to  96  is  0.5643540186730214\n",
      "r2 score corresponding to  97  is  0.6885359681250602\n",
      "r2 score corresponding to  98  is  0.6751611379447691\n",
      "r2 score corresponding to  99  is  0.6678669560537625\n",
      "max r2 score corresponding to  63  is  0.7353278706867139\n"
     ]
    },
    {
     "data": {
      "text/plain": [
       "63"
      ]
     },
     "execution_count": 38,
     "metadata": {},
     "output_type": "execute_result"
    }
   ],
   "source": [
    "knr=KNeighborsRegressor(n_neighbors=3)\n",
    "maxr2_score(knr,X,y)"
   ]
  },
  {
   "cell_type": "markdown",
   "metadata": {},
   "source": [
    "#### Cross Validating KNR"
   ]
  },
  {
   "cell_type": "code",
   "execution_count": 41,
   "metadata": {},
   "outputs": [
    {
     "name": "stdout",
     "output_type": "stream",
     "text": [
      "KNR \n",
      "\n",
      "\n",
      "Mean r2 score for regressor:  0.6536035356661914\n",
      "standard deviation in r2 score for regressor:  0.05595409332593448\n",
      "[0.6672741  0.66550248 0.69144038 0.54481591 0.69898481]\n"
     ]
    }
   ],
   "source": [
    "knr=KNeighborsRegressor(n_neighbors=3)\n",
    "\n",
    "#Lets check the cross_val_score for Random Forest Regressor\n",
    "\n",
    "print(\"KNR \\n\\n\")\n",
    "model_evaluation(knr,X,y)"
   ]
  },
  {
   "cell_type": "markdown",
   "metadata": {},
   "source": [
    "### Linear Regression"
   ]
  },
  {
   "cell_type": "code",
   "execution_count": 43,
   "metadata": {},
   "outputs": [
    {
     "name": "stdout",
     "output_type": "stream",
     "text": [
      "r2 score corresponding to  42  is  0.4551235347564978\n",
      "r2 score corresponding to  43  is  0.4525128504309346\n",
      "r2 score corresponding to  44  is  0.4348864644216607\n",
      "r2 score corresponding to  45  is  0.445148258105616\n",
      "r2 score corresponding to  46  is  0.44294906685041013\n",
      "r2 score corresponding to  47  is  0.43256002084113054\n",
      "r2 score corresponding to  48  is  0.41900745379669957\n",
      "r2 score corresponding to  49  is  0.47990435277704957\n",
      "r2 score corresponding to  50  is  0.4574401087977149\n",
      "r2 score corresponding to  51  is  0.45545947868744585\n",
      "r2 score corresponding to  52  is  0.46467189807350306\n",
      "r2 score corresponding to  53  is  0.4398446722041731\n",
      "r2 score corresponding to  54  is  0.45988603377478576\n",
      "r2 score corresponding to  55  is  0.4427609534141205\n",
      "r2 score corresponding to  56  is  0.47726925125786457\n",
      "r2 score corresponding to  57  is  0.4739830048352285\n",
      "r2 score corresponding to  58  is  0.4259189673979972\n",
      "r2 score corresponding to  59  is  0.4624703208728159\n",
      "r2 score corresponding to  60  is  0.45653639864562\n",
      "r2 score corresponding to  61  is  0.4440336272827595\n",
      "r2 score corresponding to  62  is  0.4704921265221129\n",
      "r2 score corresponding to  63  is  0.49864005775828046\n",
      "r2 score corresponding to  64  is  0.4567236971697627\n",
      "r2 score corresponding to  65  is  0.4775727180674567\n",
      "r2 score corresponding to  66  is  0.457031394257572\n",
      "r2 score corresponding to  67  is  0.49189638151351456\n",
      "r2 score corresponding to  68  is  0.4681772483093457\n",
      "r2 score corresponding to  69  is  0.47858521570218404\n",
      "r2 score corresponding to  70  is  0.4651889143588188\n",
      "r2 score corresponding to  71  is  0.4440067843829112\n",
      "r2 score corresponding to  72  is  0.46199104067622165\n",
      "r2 score corresponding to  73  is  0.4474420120478044\n",
      "r2 score corresponding to  74  is  0.4529410000926576\n",
      "r2 score corresponding to  75  is  0.4471851576355337\n",
      "r2 score corresponding to  76  is  0.45217650908076723\n",
      "r2 score corresponding to  77  is  0.4432995586229993\n",
      "r2 score corresponding to  78  is  0.4674046724479901\n",
      "r2 score corresponding to  79  is  0.4793104282303112\n",
      "r2 score corresponding to  80  is  0.46309325757241737\n",
      "r2 score corresponding to  81  is  0.48723931210459126\n",
      "r2 score corresponding to  82  is  0.43380503988045616\n",
      "r2 score corresponding to  83  is  0.4440132205403272\n",
      "r2 score corresponding to  84  is  0.43935612139226266\n",
      "r2 score corresponding to  85  is  0.4649605509133523\n",
      "r2 score corresponding to  86  is  0.4003361607720123\n",
      "r2 score corresponding to  87  is  0.4690711049760714\n",
      "r2 score corresponding to  88  is  0.4468748375605046\n",
      "r2 score corresponding to  89  is  0.42150384775679817\n",
      "r2 score corresponding to  90  is  0.470214703126838\n",
      "r2 score corresponding to  91  is  0.48937021203391484\n",
      "r2 score corresponding to  92  is  0.4510202782744933\n",
      "r2 score corresponding to  93  is  0.46261531768819286\n",
      "r2 score corresponding to  94  is  0.45573696807220765\n",
      "r2 score corresponding to  95  is  0.4718031072848312\n",
      "r2 score corresponding to  96  is  0.4282863566130902\n",
      "r2 score corresponding to  97  is  0.4372736577679558\n",
      "r2 score corresponding to  98  is  0.47911377493824714\n",
      "r2 score corresponding to  99  is  0.4727398256468738\n",
      "max r2 score corresponding to  63  is  0.49864005775828046\n"
     ]
    }
   ],
   "source": [
    "from sklearn.linear_model import LinearRegression\n",
    "\n",
    "le=LinearRegression()\n",
    "r = maxr2_score(le,X,y)"
   ]
  },
  {
   "cell_type": "markdown",
   "metadata": {},
   "source": [
    "#### Cross Valaidating Linear Regression"
   ]
  },
  {
   "cell_type": "code",
   "execution_count": 44,
   "metadata": {},
   "outputs": [
    {
     "name": "stdout",
     "output_type": "stream",
     "text": [
      "LinearRegression\n",
      "\n",
      "\n",
      "Mean r2 score for regressor:  0.46009984594495296\n",
      "standard deviation in r2 score for regressor:  0.013665648644371461\n",
      "[0.47004697 0.46557173 0.46820915 0.43313188 0.46353949]\n"
     ]
    }
   ],
   "source": [
    "print(\"LinearRegression\\n\\n\")\n",
    "\n",
    "model_evaluation(le,X,y)"
   ]
  },
  {
   "cell_type": "markdown",
   "metadata": {},
   "source": [
    "Linear regressor model is doing a worst prediction, we can skip this model."
   ]
  },
  {
   "cell_type": "markdown",
   "metadata": {},
   "source": [
    "### The final aggregation of all the models and thier performances."
   ]
  },
  {
   "cell_type": "code",
   "execution_count": 50,
   "metadata": {},
   "outputs": [
    {
     "name": "stdout",
     "output_type": "stream",
     "text": [
      "Random Forest Regressor\n",
      "\n",
      "Mean r2 score for regressor:  0.747271858932745\n",
      "standard deviation in r2 score for regressor:  0.06415823062122601\n",
      "[0.79099526 0.71175335 0.80012127 0.6368973  0.79659213]\n",
      "None\n",
      "\n",
      "\n",
      "XGBoost\n",
      "\n",
      "Mean r2 score for regressor:  0.7325567543136582\n",
      "standard deviation in r2 score for regressor:  0.06985586082669848\n",
      "[0.78157848 0.69792646 0.76990684 0.61165127 0.80172072]\n",
      "None\n",
      "\n",
      "\n",
      "KNR\n",
      "\n",
      "\n",
      "Mean r2 score for regressor:  0.6536035356661914\n",
      "standard deviation in r2 score for regressor:  0.05595409332593448\n",
      "[0.6672741  0.66550248 0.69144038 0.54481591 0.69898481]\n",
      "\n",
      "\n",
      "Linear Regression\n",
      "\n",
      "\n",
      "Mean r2 score for regressor:  0.46009984594495296\n",
      "standard deviation in r2 score for regressor:  0.013665648644371461\n",
      "[0.47004697 0.46557173 0.46820915 0.43313188 0.46353949]\n"
     ]
    }
   ],
   "source": [
    "print(\"Random Forest Regressor\\n\")\n",
    "print(model_evaluation(rfr,X,y))\n",
    "\n",
    "print('\\n')\n",
    "\n",
    "print(\"XGBoost\\n\")\n",
    "print(model_evaluation(regressor, X, y))\n",
    "\n",
    "print(\"\\n\")\n",
    "\n",
    "print(\"KNR\\n\\n\")\n",
    "model_evaluation(knr,X,y)\n",
    "\n",
    "print('\\n')\n",
    "\n",
    "print(\"Linear Regression\\n\\n\")\n",
    "model_evaluation(le,X,y)"
   ]
  },
  {
   "cell_type": "markdown",
   "metadata": {},
   "source": [
    "Post cross validation of all the models, Random Forest Regressor model gives the best r2 svore"
   ]
  },
  {
   "cell_type": "markdown",
   "metadata": {},
   "source": [
    "*******"
   ]
  },
  {
   "cell_type": "markdown",
   "metadata": {},
   "source": [
    "### Saving the final model (Random Forest Regressor)"
   ]
  },
  {
   "cell_type": "code",
   "execution_count": 54,
   "metadata": {},
   "outputs": [],
   "source": [
    "trainX, testX, trainY, testY = train_test_split(X, y,random_state = 72,test_size=0.20)"
   ]
  },
  {
   "cell_type": "code",
   "execution_count": 55,
   "metadata": {},
   "outputs": [
    {
     "data": {
      "text/plain": [
       "array([513362.31497998, 329055.67393974, 123206.904     , ...,\n",
       "       271452.74592075, 559340.70277214, 182535.4505772 ])"
      ]
     },
     "execution_count": 55,
     "metadata": {},
     "output_type": "execute_result"
    }
   ],
   "source": [
    "rfr.fit(trainX, trainY)\n",
    "y_pred = rfr.predict(testX)\n",
    "\n",
    "y_pred"
   ]
  },
  {
   "cell_type": "code",
   "execution_count": 56,
   "metadata": {},
   "outputs": [
    {
     "name": "stdout",
     "output_type": "stream",
     "text": [
      "r2_score is:  0.8541415915197639\n"
     ]
    }
   ],
   "source": [
    "print(\"r2_score is: \",r2_score(testY,y_pred))"
   ]
  },
  {
   "cell_type": "code",
   "execution_count": 62,
   "metadata": {},
   "outputs": [],
   "source": [
    "price_prediction = y_pred\n",
    "\n",
    "#lets make the dataframe for price_prediction\n",
    "\n",
    "price_prediction=pd.DataFrame(price_prediction,columns=[\"Price\"])"
   ]
  },
  {
   "cell_type": "code",
   "execution_count": 63,
   "metadata": {},
   "outputs": [],
   "source": [
    "#Lets save the submission to csv\n",
    "\n",
    "#price_prediction.to_csv(\"Cars_Price_Prediction(final).csv\",index=False)"
   ]
  }
 ],
 "metadata": {
  "accelerator": "GPU",
  "colab": {
   "name": "Used cars price prediction.ipynb",
   "provenance": []
  },
  "kernelspec": {
   "display_name": "Python 3",
   "language": "python",
   "name": "python3"
  },
  "language_info": {
   "codemirror_mode": {
    "name": "ipython",
    "version": 3
   },
   "file_extension": ".py",
   "mimetype": "text/x-python",
   "name": "python",
   "nbconvert_exporter": "python",
   "pygments_lexer": "ipython3",
   "version": "3.8.3"
  }
 },
 "nbformat": 4,
 "nbformat_minor": 1
}
